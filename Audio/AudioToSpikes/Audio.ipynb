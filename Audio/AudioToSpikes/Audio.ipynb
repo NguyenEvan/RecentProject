{
 "cells": [
  {
   "cell_type": "markdown",
   "metadata": {},
   "source": [
    "### https://github.com/electronicvisions/lauscher?tab=readme-ov-file\n",
    "\n",
    "The `times` and `units` datum consist of two lists that contain the firing times and the unit id of which neuron has \n",
    "fired at the corresponding firing time. The `labels` datum contains a list of the respective word id, whereas the `speaker` \n",
    "datum holds the speaker id. In `keys` a list of strings is kept, holding the transformation from word id to spoken word. \n"
   ]
  },
  {
   "cell_type": "code",
   "execution_count": 14,
   "metadata": {},
   "outputs": [
    {
     "name": "stdout",
     "output_type": "stream",
     "text": [
      "Firing Times [0.06629167 0.09554167 0.09583333 0.13325    0.14945833 0.15245833\n",
      " 0.18204167 0.18429167 0.18483333 0.21808333]\n",
      "Units Fired [49. 27. 11.  0. 37. 43.  9. 58.  1. 60.]\n",
      "Label 0\n"
     ]
    },
    {
     "data": {
      "text/plain": [
       "'\\nfor item in lst:\\n    print(data[item])\\n\\nlst\\n'"
      ]
     },
     "execution_count": 14,
     "metadata": {},
     "output_type": "execute_result"
    }
   ],
   "source": [
    "import numpy as np\n",
    "from numpy import load\n",
    "\n",
    "data = load('C:/Users/evanb/Desktop/CMPM 117/dataset/my_first_spiketrain.npz')\n",
    "lst = data.files\n",
    "\n",
    "spikes = lst[0]\n",
    "\n",
    "# Extract the array\n",
    "spike_train = data[spikes]\n",
    "\n",
    "firing_times = spike_train[0]\n",
    "units_fired = spike_train[1]\n",
    "label = '0'\n",
    "\n",
    "\n",
    "print(\"Firing Times:\", firing_times[0:10])\n",
    "print(\"Units Fired:\", units_fired[0:10])\n",
    "print(\"Label\", label)"
   ]
  }
 ],
 "metadata": {
  "kernelspec": {
   "display_name": ".venv",
   "language": "python",
   "name": "python3"
  },
  "language_info": {
   "codemirror_mode": {
    "name": "ipython",
    "version": 3
   },
   "file_extension": ".py",
   "mimetype": "text/x-python",
   "name": "python",
   "nbconvert_exporter": "python",
   "pygments_lexer": "ipython3",
   "version": "3.12.2"
  }
 },
 "nbformat": 4,
 "nbformat_minor": 2
}
